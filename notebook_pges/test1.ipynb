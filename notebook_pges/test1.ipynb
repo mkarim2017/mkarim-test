{
 "cells": [
  {
   "cell_type": "code",
   "execution_count": null,
   "id": "naughty-arrival",
   "metadata": {
    "tags": [
     "parameters"
    ]
   },
   "outputs": [],
   "source": [
    "print(\"Hello World\")\n",
    "#hysds integration parameters\n",
    "hysds_label=\"Test1\"\n",
    "disk_usage=\"10GB\""
   ]
  }
 ],
 "metadata": {
  "kernelspec": {
   "display_name": "Python 3",
   "language": "python",
   "name": "python3"
  },
  "language_info": {
   "codemirror_mode": {
    "name": "ipython",
    "version": 3
   },
   "file_extension": ".py",
   "mimetype": "text/x-python",
   "name": "python",
   "nbconvert_exporter": "python",
   "pygments_lexer": "ipython3",
   "version": "3.8.2"
  }
 },
 "nbformat": 4,
 "nbformat_minor": 5
}
